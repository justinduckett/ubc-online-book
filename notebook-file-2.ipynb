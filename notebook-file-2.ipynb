{
 "cells": [
  {
   "cell_type": "markdown",
   "id": "0d0f43e7-8484-45ef-bb1c-c65885e0a3bf",
   "metadata": {},
   "source": [
    "# Notebook File 2"
   ]
  },
  {
   "cell_type": "markdown",
   "id": "87b79a50-8988-4bab-ad9f-1103505a79be",
   "metadata": {},
   "source": [
    "example of a math formula with LATEX:\n",
    "\n",
    "$$\n",
    "area = length x width\n",
    "$$"
   ]
  },
  {
   "cell_type": "markdown",
   "id": "ece3e228-e37b-4231-8d5b-65137809d7ce",
   "metadata": {},
   "source": [
    "example of a math formula with LATEX:\n",
    "\n",
    "$$\n",
    "\\sqrt[root]{arg}\n",
    "$$"
   ]
  },
  {
   "cell_type": "markdown",
   "id": "79a9f4fe-7973-44c9-b0b6-25c4b6f24be2",
   "metadata": {},
   "source": [
    "example of an image file:\n",
    "\n",
    "<img src=\"https://upload.wikimedia.org/wikipedia/commons/3/36/MapleLeafGardens1934.jpg\" width=\"15%\"></img>"
   ]
  },
  {
   "cell_type": "markdown",
   "id": "2f48c89b-017d-400b-a871-6e898d6745a4",
   "metadata": {},
   "source": [
    "example of an image file:\n",
    "\n",
    "<img src=\"https://upload.wikimedia.org/wikipedia/commons/a/ac/TimHorton_03.jpg\" width=\"15%\"></img>"
   ]
  },
  {
   "cell_type": "markdown",
   "id": "07d01498-5771-4b04-a14f-ba3282fa5834",
   "metadata": {},
   "source": [
    "example of a code block:\n",
    "\n",
    "```\n",
    "'t' in 'justin'\n",
    "```"
   ]
  },
  {
   "cell_type": "markdown",
   "id": "e74a9874-d6c8-450a-b653-d932156d3808",
   "metadata": {},
   "source": [
    "example of a code block:\n",
    "\n",
    "```\n",
    "for i in 'ABCDE':\n",
    "    print(i)\n",
    "```"
   ]
  },
  {
   "cell_type": "markdown",
   "id": "ad717f7f-aa52-46c8-b5ae-85c95e3efe4b",
   "metadata": {},
   "source": [
    "**5 executable code cells:**"
   ]
  },
  {
   "cell_type": "code",
   "execution_count": 6,
   "id": "652fdb76-f6eb-416a-a042-ec310c4cf085",
   "metadata": {},
   "outputs": [
    {
     "data": {
      "text/plain": [
       "2"
      ]
     },
     "execution_count": 6,
     "metadata": {},
     "output_type": "execute_result"
    }
   ],
   "source": [
    "5-3"
   ]
  },
  {
   "cell_type": "code",
   "execution_count": 8,
   "id": "f353139c-1d81-4681-ae00-6bce8f28eb57",
   "metadata": {},
   "outputs": [
    {
     "data": {
      "text/plain": [
       "30.416666666666668"
      ]
     },
     "execution_count": 8,
     "metadata": {},
     "output_type": "execute_result"
    }
   ],
   "source": [
    "365/12"
   ]
  },
  {
   "cell_type": "code",
   "execution_count": 9,
   "id": "0e5ecba2-3250-4903-9e18-0c880b01be86",
   "metadata": {},
   "outputs": [
    {
     "data": {
      "text/plain": [
       "False"
      ]
     },
     "execution_count": 9,
     "metadata": {},
     "output_type": "execute_result"
    }
   ],
   "source": [
    "'x' in 'apple'"
   ]
  },
  {
   "cell_type": "code",
   "execution_count": 11,
   "id": "a1417274-8489-4daa-a3f9-b1258eee1393",
   "metadata": {},
   "outputs": [
    {
     "data": {
      "text/plain": [
       "['J', 'u', 's', 't', 'i', 'n']"
      ]
     },
     "execution_count": 11,
     "metadata": {},
     "output_type": "execute_result"
    }
   ],
   "source": [
    "# for loop way to create a list\n",
    "\n",
    "mylist = []\n",
    "\n",
    "for letter in \"Justin\":\n",
    "    mylist.append(letter)\n",
    "\n",
    "mylist"
   ]
  },
  {
   "cell_type": "code",
   "execution_count": 12,
   "id": "4a1c7d57-5416-4d71-a2cf-d3af1e736be6",
   "metadata": {},
   "outputs": [
    {
     "data": {
      "text/plain": [
       "['J', 'u', 's', 't', 'i', 'n']"
      ]
     },
     "execution_count": 12,
     "metadata": {},
     "output_type": "execute_result"
    }
   ],
   "source": [
    "# list comprehension way to create a list\n",
    "\n",
    "newlist = [letter for letter in \"Justin\"]\n",
    "\n",
    "newlist"
   ]
  },
  {
   "cell_type": "code",
   "execution_count": null,
   "id": "899c649a-5ec6-47a8-9e97-9a92b5b29936",
   "metadata": {},
   "outputs": [],
   "source": []
  }
 ],
 "metadata": {
  "kernelspec": {
   "display_name": "Python 3 (ipykernel)",
   "language": "python",
   "name": "python3"
  },
  "language_info": {
   "codemirror_mode": {
    "name": "ipython",
    "version": 3
   },
   "file_extension": ".py",
   "mimetype": "text/x-python",
   "name": "python",
   "nbconvert_exporter": "python",
   "pygments_lexer": "ipython3",
   "version": "3.9.12"
  }
 },
 "nbformat": 4,
 "nbformat_minor": 5
}
