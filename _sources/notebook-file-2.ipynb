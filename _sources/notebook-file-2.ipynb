{
 "cells": [
  {
   "cell_type": "markdown",
   "id": "0d0f43e7-8484-45ef-bb1c-c65885e0a3bf",
   "metadata": {},
   "source": [
    "# Notebook File 2"
   ]
  },
  {
   "cell_type": "code",
   "execution_count": null,
   "id": "6e118705-1b7e-4603-8ae2-3fde35794e09",
   "metadata": {},
   "outputs": [],
   "source": []
  }
 ],
 "metadata": {
  "kernelspec": {
   "display_name": "Python 3 (ipykernel)",
   "language": "python",
   "name": "python3"
  },
  "language_info": {
   "codemirror_mode": {
    "name": "ipython",
    "version": 3
   },
   "file_extension": ".py",
   "mimetype": "text/x-python",
   "name": "python",
   "nbconvert_exporter": "python",
   "pygments_lexer": "ipython3",
   "version": "3.9.12"
  }
 },
 "nbformat": 4,
 "nbformat_minor": 5
}
