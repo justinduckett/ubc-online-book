{
 "cells": [
  {
   "cell_type": "markdown",
   "id": "0d0f43e7-8484-45ef-bb1c-c65885e0a3bf",
   "metadata": {},
   "source": [
    "# Notebook File 2"
   ]
  },
  {
   "cell_type": "markdown",
   "id": "87b79a50-8988-4bab-ad9f-1103505a79be",
   "metadata": {},
   "source": [
    "example of a math formula with LATEX:\n",
    "\n",
    "$$\n",
    "F=ma \n",
    "$$"
   ]
  },
  {
   "cell_type": "markdown",
   "id": "ece3e228-e37b-4231-8d5b-65137809d7ce",
   "metadata": {},
   "source": [
    "example of a math formula with LATEX:\n",
    "\n",
    "$$\n",
    "E=mc^2\n",
    "$$"
   ]
  },
  {
   "cell_type": "markdown",
   "id": "79a9f4fe-7973-44c9-b0b6-25c4b6f24be2",
   "metadata": {},
   "source": [
    "example of an image file:\n",
    "\n",
    "<img src=\"https://upload.wikimedia.org/wikipedia/commons/c/cd/Auston_Matthews_9.jpg\" width=\"15%\"></img>"
   ]
  },
  {
   "cell_type": "markdown",
   "id": "2f48c89b-017d-400b-a871-6e898d6745a4",
   "metadata": {},
   "source": [
    "example of an image file:\n",
    "\n",
    "<img src=\"https://upload.wikimedia.org/wikipedia/commons/0/0d/2016_NHL_All-Star_Game_%2824660206292%29.jpg\" width=\"15%\"></img>"
   ]
  },
  {
   "cell_type": "markdown",
   "id": "07d01498-5771-4b04-a14f-ba3282fa5834",
   "metadata": {},
   "source": [
    "example of a code block:\n",
    "\n",
    "```\n",
    "print(2 + 2)\n",
    "```"
   ]
  },
  {
   "cell_type": "markdown",
   "id": "e74a9874-d6c8-450a-b653-d932156d3808",
   "metadata": {},
   "source": [
    "example of a code block:\n",
    "\n",
    "```\n",
    "print('This is a string')\n",
    "```"
   ]
  },
  {
   "cell_type": "markdown",
   "id": "ad717f7f-aa52-46c8-b5ae-85c95e3efe4b",
   "metadata": {},
   "source": [
    "**5 executable code cells:**"
   ]
  },
  {
   "cell_type": "code",
   "execution_count": 1,
   "id": "652fdb76-f6eb-416a-a042-ec310c4cf085",
   "metadata": {},
   "outputs": [
    {
     "data": {
      "text/plain": [
       "2"
      ]
     },
     "execution_count": 1,
     "metadata": {},
     "output_type": "execute_result"
    }
   ],
   "source": [
    "1 + 1"
   ]
  },
  {
   "cell_type": "code",
   "execution_count": 2,
   "id": "f353139c-1d81-4681-ae00-6bce8f28eb57",
   "metadata": {},
   "outputs": [
    {
     "data": {
      "text/plain": [
       "8"
      ]
     },
     "execution_count": 2,
     "metadata": {},
     "output_type": "execute_result"
    }
   ],
   "source": [
    "2*4"
   ]
  },
  {
   "cell_type": "code",
   "execution_count": 3,
   "id": "0e5ecba2-3250-4903-9e18-0c880b01be86",
   "metadata": {},
   "outputs": [
    {
     "data": {
      "text/plain": [
       "True"
      ]
     },
     "execution_count": 3,
     "metadata": {},
     "output_type": "execute_result"
    }
   ],
   "source": [
    "'t' in 'justin'"
   ]
  },
  {
   "cell_type": "code",
   "execution_count": 4,
   "id": "268b6813-2bf8-403a-b158-b439965abffe",
   "metadata": {},
   "outputs": [
    {
     "name": "stdout",
     "output_type": "stream",
     "text": [
      "J\n",
      "u\n",
      "s\n",
      "t\n",
      "i\n",
      "n\n"
     ]
    }
   ],
   "source": [
    "for i in 'Justin':\n",
    "    print(i)"
   ]
  },
  {
   "cell_type": "code",
   "execution_count": 5,
   "id": "a1417274-8489-4daa-a3f9-b1258eee1393",
   "metadata": {},
   "outputs": [
    {
     "name": "stdout",
     "output_type": "stream",
     "text": [
      "0\n",
      "1\n",
      "2\n",
      "3\n",
      "4\n"
     ]
    }
   ],
   "source": [
    "for n in range(5):\n",
    "    print(n)"
   ]
  },
  {
   "cell_type": "code",
   "execution_count": null,
   "id": "4a1c7d57-5416-4d71-a2cf-d3af1e736be6",
   "metadata": {},
   "outputs": [],
   "source": []
  }
 ],
 "metadata": {
  "kernelspec": {
   "display_name": "Python 3 (ipykernel)",
   "language": "python",
   "name": "python3"
  },
  "language_info": {
   "codemirror_mode": {
    "name": "ipython",
    "version": 3
   },
   "file_extension": ".py",
   "mimetype": "text/x-python",
   "name": "python",
   "nbconvert_exporter": "python",
   "pygments_lexer": "ipython3",
   "version": "3.9.12"
  }
 },
 "nbformat": 4,
 "nbformat_minor": 5
}
